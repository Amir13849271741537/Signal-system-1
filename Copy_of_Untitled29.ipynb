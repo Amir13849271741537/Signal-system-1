{
  "nbformat": 4,
  "nbformat_minor": 0,
  "metadata": {
    "colab": {
      "provenance": [],
      "authorship_tag": "ABX9TyM/UFWJoLnKzSu2mBzf6XtL",
      "include_colab_link": true
    },
    "kernelspec": {
      "name": "python3",
      "display_name": "Python 3"
    },
    "language_info": {
      "name": "python"
    }
  },
  "cells": [
    {
      "cell_type": "markdown",
      "metadata": {
        "id": "view-in-github",
        "colab_type": "text"
      },
      "source": [
        "<a href=\"https://colab.research.google.com/github/Amir13849271741537/Signal-system-1/blob/main/Copy_of_Untitled29.ipynb\" target=\"_parent\"><img src=\"https://colab.research.google.com/assets/colab-badge.svg\" alt=\"Open In Colab\"/></a>"
      ]
    },
    {
      "cell_type": "code",
      "source": [
        "!pip install numpy matplotlib"
      ],
      "metadata": {
        "id": "p8dVNXSrA4WO"
      },
      "execution_count": null,
      "outputs": []
    },
    {
      "cell_type": "code",
      "execution_count": null,
      "metadata": {
        "id": "xyqax-_5AOxD"
      },
      "outputs": [],
      "source": [
        "\n",
        "import numpy as np\n",
        "import matplotlib.pyplot as plt\n",
        "\n",
        "n = np.arange(-5, 6, 1)  # محور n\n",
        "X = np.sin(0.5 * np.pi * n)  # فرض کنیم سیگنال اصلی سینوسی باشه\n",
        "Y = np.sin(0.5 * np.pi * (n - 2))  # X[n-2]\n",
        "\n",
        "plt.stem(n, X, linefmt='b-', markerfmt='bo', basefmt=' ')\n",
        "plt.stem(n, Y, linefmt='r-', markerfmt='ro', basefmt=' ')\n",
        "plt.legend(['X[n]', 'X[n-2]'])\n",
        "plt.title('تاخیر زمانی: X[n-2]')\n",
        "plt.grid(True)\n",
        "plt.show()"
      ]
    },
    {
      "cell_type": "code",
      "source": [
        "\n",
        "import numpy as np\n",
        "import matplotlib.pyplot as plt\n",
        "\n",
        "n = np.arange(-10, 11, 1)\n",
        "X = np.sin(0.5 * np.pi * n)\n",
        "n2 = 1.5 * n + 3\n",
        "Y = np.interp(n, n2, X, left=0, right=0)  # درون‌یابی خطی\n",
        "\n",
        "plt.stem(n, X, linefmt='b-', markerfmt='bo', basefmt=' ')\n",
        "plt.stem(n, Y, linefmt='r-', markerfmt='ro', basefmt=' ')\n",
        "plt.legend(['X[n]', 'X[1.5n+3]'])\n",
        "plt.title('تغییر مقیاس و جابجایی: X[1.5n+3]')\n",
        "plt.grid(True)\n",
        "plt.show()"
      ],
      "metadata": {
        "id": "Hav3qv_jAZ71"
      },
      "execution_count": null,
      "outputs": []
    },
    {
      "cell_type": "code",
      "source": [
        "\n",
        "import numpy as np\n",
        "import matplotlib.pyplot as plt\n",
        "\n",
        "n = np.arange(-10, 11, 1)\n",
        "X = np.cos(0.3 * np.pi * n)\n",
        "X2 = np.cos(0.3 * np.pi * 2 * n)\n",
        "Y = X + X2 - 3\n",
        "\n",
        "plt.stem(n, X, linefmt='b-', markerfmt='bo', basefmt=' ')\n",
        "plt.stem(n, Y, linefmt='r-', markerfmt='ro', basefmt=' ')\n",
        "plt.legend(['X[n]', 'X[n]+X[2n]-3'])\n",
        "plt.title('ترکیب سیگنال‌ها: X[n]+X[2n]-3')\n",
        "plt.grid(True)\n",
        "plt.show()"
      ],
      "metadata": {
        "id": "9ZAm4c0AAeLu"
      },
      "execution_count": null,
      "outputs": []
    },
    {
      "cell_type": "code",
      "source": [],
      "metadata": {
        "id": "YsXed30rB9dL"
      },
      "execution_count": null,
      "outputs": []
    },
    {
      "cell_type": "code",
      "source": [
        "\n",
        "import numpy as np\n",
        "import matplotlib.pyplot as plt\n",
        "\n",
        "t = np.linspace(-2, 2, 400)\n",
        "X = np.exp(-t**2)  # سیگنال اصلی گاوسی\n",
        "Y = np.exp(-(3*t - 0.5)**2)  # X(3t - 0.5)\n",
        "\n",
        "plt.plot(t, X, 'b', label='X(t)')\n",
        "plt.plot(t, Y, 'r', label='X(3t - 0.5)')\n",
        "plt.legend()\n",
        "plt.title('تغییر مقیاس و جابجایی در زمان: X(3t-0.5)')\n",
        "plt.grid(True)\n",
        "plt.show()"
      ],
      "metadata": {
        "id": "mGxSGQFVAlUp"
      },
      "execution_count": null,
      "outputs": []
    },
    {
      "cell_type": "code",
      "source": [
        "\n",
        "import numpy as np\n",
        "import matplotlib.pyplot as plt\n",
        "\n",
        "t = np.linspace(-10, 10, 400)\n",
        "X = np.exp(-t**2)\n",
        "Y = np.exp(-(0.5*t + 3)**2)\n",
        "\n",
        "plt.plot(t, X, 'b', label='X(t)')\n",
        "plt.plot(t, Y, 'r', label='X(0.5t + 3)')\n",
        "plt.legend()\n",
        "plt.title('کشش و جابجایی: X(0.5t+3)')\n",
        "plt.grid(True)\n",
        "plt.show()"
      ],
      "metadata": {
        "id": "V5LDBWVxAsP6"
      },
      "execution_count": null,
      "outputs": []
    },
    {
      "cell_type": "code",
      "source": [
        "\n",
        "import numpy as np\n",
        "import matplotlib.pyplot as plt\n",
        "\n",
        "t = np.linspace(-5, 5, 400)\n",
        "X = np.sin(2 * np.pi * t)\n",
        "Y = np.sin(2 * np.pi * (t - 2)) - t\n",
        "\n",
        "plt.plot(t, X, 'b', label='X(t)')\n",
        "plt.plot(t, Y, 'r', label='X(t-2) - t')\n",
        "plt.legend()\n",
        "plt.title('ترکیب سیگنال با جابجایی و تفریق: X(t-2) - t')\n",
        "plt.grid(True)\n",
        "plt.show()"
      ],
      "metadata": {
        "id": "hLCjX62LAvjF"
      },
      "execution_count": null,
      "outputs": []
    }
  ]
}